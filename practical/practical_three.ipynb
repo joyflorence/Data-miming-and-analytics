{
 "cells": [
  {
   "cell_type": "markdown",
   "metadata": {},
   "source": [
    "#### Univariate Data Relationship"
   ]
  },
  {
   "cell_type": "markdown",
   "metadata": {},
   "source": [
    "- Univariate data refers to a data that consists of observations on a single variable ie it involves the measurement or observation of a single characteristic "
   ]
  },
  {
   "cell_type": "markdown",
   "metadata": {},
   "source": [
    "#### Key X-tics\n",
    "\n",
    "- Single Variable – contains only one variable, making it easier to analyze and interpret.\n",
    "\n",
    "- Descriptive Analysis – It focuses on summarizing and describing the data using measures such as mean, median, mode, range, variance, and standard deviation.\n",
    "\n",
    "- Graphical Representation – Common visualizations for univariate data include histograms, box plots, bar charts, and pie charts.\n",
    "\n",
    "- No Relationship Analysis – Since there is only one variable, univariate analysis does not involve studying relationships or dependencies between multiple variables."
   ]
  },
  {
   "cell_type": "markdown",
   "metadata": {},
   "source": [
    "#### Difference\n",
    "- Bivariate involves two variables, multivariate involves more than two variables\n",
    "- Bivariate examines the relationshop between two variables, multivariate examines relationship between two or more variables\n",
    "\n",
    "\n",
    "Types of univariate data.\n",
    "- Categorial(Non-numeric) data\n",
    "- Continuous(Numeric) data"
   ]
  },
  {
   "cell_type": "markdown",
   "metadata": {},
   "source": [
    "#### Methods for visualizing univariate data"
   ]
  },
  {
   "cell_type": "code",
   "execution_count": 10,
   "metadata": {},
   "outputs": [],
   "source": [
    "import pandas as pd\n",
    "import seaborn as sns\n",
    "import matplotlib.pyplot as plt\n",
    "import numpy as np"
   ]
  },
  {
   "cell_type": "code",
   "execution_count": 40,
   "metadata": {},
   "outputs": [
    {
     "data": {
      "text/html": [
       "<div>\n",
       "<style scoped>\n",
       "    .dataframe tbody tr th:only-of-type {\n",
       "        vertical-align: middle;\n",
       "    }\n",
       "\n",
       "    .dataframe tbody tr th {\n",
       "        vertical-align: top;\n",
       "    }\n",
       "\n",
       "    .dataframe thead th {\n",
       "        text-align: right;\n",
       "    }\n",
       "</style>\n",
       "<table border=\"1\" class=\"dataframe\">\n",
       "  <thead>\n",
       "    <tr style=\"text-align: right;\">\n",
       "      <th></th>\n",
       "      <th>Access_no</th>\n",
       "      <th>Gender</th>\n",
       "      <th>Age</th>\n",
       "      <th>Course</th>\n",
       "      <th>DSC3108</th>\n",
       "      <th>DSC3114</th>\n",
       "      <th>MTH3108</th>\n",
       "      <th>SYE3104</th>\n",
       "    </tr>\n",
       "  </thead>\n",
       "  <tbody>\n",
       "    <tr>\n",
       "      <th>0</th>\n",
       "      <td>B2030</td>\n",
       "      <td>M</td>\n",
       "      <td>20</td>\n",
       "      <td>BSCS</td>\n",
       "      <td>85.0</td>\n",
       "      <td>88.0</td>\n",
       "      <td>82</td>\n",
       "      <td>87.0</td>\n",
       "    </tr>\n",
       "    <tr>\n",
       "      <th>1</th>\n",
       "      <td>B2031</td>\n",
       "      <td>F</td>\n",
       "      <td>21</td>\n",
       "      <td>BSIT</td>\n",
       "      <td>76.0</td>\n",
       "      <td>70.0</td>\n",
       "      <td>75</td>\n",
       "      <td>72.0</td>\n",
       "    </tr>\n",
       "    <tr>\n",
       "      <th>2</th>\n",
       "      <td>B2032</td>\n",
       "      <td>M</td>\n",
       "      <td>22</td>\n",
       "      <td>DIT</td>\n",
       "      <td>90.0</td>\n",
       "      <td>92.0</td>\n",
       "      <td>89</td>\n",
       "      <td>93.0</td>\n",
       "    </tr>\n",
       "    <tr>\n",
       "      <th>3</th>\n",
       "      <td>B2033</td>\n",
       "      <td>M</td>\n",
       "      <td>23</td>\n",
       "      <td>BSDS</td>\n",
       "      <td>65.0</td>\n",
       "      <td>66.0</td>\n",
       "      <td>60</td>\n",
       "      <td>68.0</td>\n",
       "    </tr>\n",
       "    <tr>\n",
       "      <th>4</th>\n",
       "      <td>B2034</td>\n",
       "      <td>M</td>\n",
       "      <td>20</td>\n",
       "      <td>BSCS</td>\n",
       "      <td>78.0</td>\n",
       "      <td>79.0</td>\n",
       "      <td>77</td>\n",
       "      <td>80.0</td>\n",
       "    </tr>\n",
       "    <tr>\n",
       "      <th>5</th>\n",
       "      <td>B2035</td>\n",
       "      <td>F</td>\n",
       "      <td>21</td>\n",
       "      <td>BSIT</td>\n",
       "      <td>88.0</td>\n",
       "      <td>NaN</td>\n",
       "      <td>85</td>\n",
       "      <td>86.0</td>\n",
       "    </tr>\n",
       "    <tr>\n",
       "      <th>6</th>\n",
       "      <td>B2036</td>\n",
       "      <td>F</td>\n",
       "      <td>22</td>\n",
       "      <td>BSDS</td>\n",
       "      <td>80.0</td>\n",
       "      <td>91.0</td>\n",
       "      <td>93</td>\n",
       "      <td>94.0</td>\n",
       "    </tr>\n",
       "    <tr>\n",
       "      <th>7</th>\n",
       "      <td>B2037</td>\n",
       "      <td>M</td>\n",
       "      <td>23</td>\n",
       "      <td>BSE</td>\n",
       "      <td>70.0</td>\n",
       "      <td>72.0</td>\n",
       "      <td>68</td>\n",
       "      <td>74.0</td>\n",
       "    </tr>\n",
       "    <tr>\n",
       "      <th>8</th>\n",
       "      <td>B2038</td>\n",
       "      <td>F</td>\n",
       "      <td>20</td>\n",
       "      <td>BSCS</td>\n",
       "      <td>84.0</td>\n",
       "      <td>85.0</td>\n",
       "      <td>83</td>\n",
       "      <td>86.0</td>\n",
       "    </tr>\n",
       "    <tr>\n",
       "      <th>9</th>\n",
       "      <td>B2039</td>\n",
       "      <td>F</td>\n",
       "      <td>21</td>\n",
       "      <td>DIT</td>\n",
       "      <td>79.0</td>\n",
       "      <td>80.0</td>\n",
       "      <td>78</td>\n",
       "      <td>78.0</td>\n",
       "    </tr>\n",
       "    <tr>\n",
       "      <th>10</th>\n",
       "      <td>B2040</td>\n",
       "      <td>M</td>\n",
       "      <td>20</td>\n",
       "      <td>BSDS</td>\n",
       "      <td>83.0</td>\n",
       "      <td>84.0</td>\n",
       "      <td>81</td>\n",
       "      <td>82.0</td>\n",
       "    </tr>\n",
       "    <tr>\n",
       "      <th>11</th>\n",
       "      <td>B2041</td>\n",
       "      <td>F</td>\n",
       "      <td>21</td>\n",
       "      <td>BSE</td>\n",
       "      <td>72.0</td>\n",
       "      <td>73.0</td>\n",
       "      <td>70</td>\n",
       "      <td>NaN</td>\n",
       "    </tr>\n",
       "    <tr>\n",
       "      <th>12</th>\n",
       "      <td>B2042</td>\n",
       "      <td>M</td>\n",
       "      <td>22</td>\n",
       "      <td>BSCS</td>\n",
       "      <td>NaN</td>\n",
       "      <td>90.0</td>\n",
       "      <td>87</td>\n",
       "      <td>89.0</td>\n",
       "    </tr>\n",
       "    <tr>\n",
       "      <th>13</th>\n",
       "      <td>B2043</td>\n",
       "      <td>M</td>\n",
       "      <td>23</td>\n",
       "      <td>BSIT</td>\n",
       "      <td>95.0</td>\n",
       "      <td>96.0</td>\n",
       "      <td>94</td>\n",
       "      <td>67.0</td>\n",
       "    </tr>\n",
       "    <tr>\n",
       "      <th>14</th>\n",
       "      <td>B2044</td>\n",
       "      <td>F</td>\n",
       "      <td>20</td>\n",
       "      <td>BSDS</td>\n",
       "      <td>60.0</td>\n",
       "      <td>61.0</td>\n",
       "      <td>58</td>\n",
       "      <td>62.0</td>\n",
       "    </tr>\n",
       "    <tr>\n",
       "      <th>15</th>\n",
       "      <td>B2045</td>\n",
       "      <td>F</td>\n",
       "      <td>24</td>\n",
       "      <td>BSIT</td>\n",
       "      <td>78.0</td>\n",
       "      <td>79.0</td>\n",
       "      <td>76</td>\n",
       "      <td>80.0</td>\n",
       "    </tr>\n",
       "    <tr>\n",
       "      <th>16</th>\n",
       "      <td>B2046</td>\n",
       "      <td>M</td>\n",
       "      <td>22</td>\n",
       "      <td>BSCSS</td>\n",
       "      <td>80.0</td>\n",
       "      <td>81.0</td>\n",
       "      <td>79</td>\n",
       "      <td>82.0</td>\n",
       "    </tr>\n",
       "    <tr>\n",
       "      <th>17</th>\n",
       "      <td>B2047</td>\n",
       "      <td>F</td>\n",
       "      <td>23</td>\n",
       "      <td>DIT</td>\n",
       "      <td>60.0</td>\n",
       "      <td>89.0</td>\n",
       "      <td>87</td>\n",
       "      <td>92.0</td>\n",
       "    </tr>\n",
       "    <tr>\n",
       "      <th>18</th>\n",
       "      <td>B2048</td>\n",
       "      <td>M</td>\n",
       "      <td>20</td>\n",
       "      <td>DBSDS</td>\n",
       "      <td>89.0</td>\n",
       "      <td>87.0</td>\n",
       "      <td>88</td>\n",
       "      <td>90.0</td>\n",
       "    </tr>\n",
       "    <tr>\n",
       "      <th>19</th>\n",
       "      <td>B2049</td>\n",
       "      <td>F</td>\n",
       "      <td>21</td>\n",
       "      <td>BSE</td>\n",
       "      <td>91.0</td>\n",
       "      <td>90.0</td>\n",
       "      <td>86</td>\n",
       "      <td>88.0</td>\n",
       "    </tr>\n",
       "  </tbody>\n",
       "</table>\n",
       "</div>"
      ],
      "text/plain": [
       "   Access_no Gender  Age Course  DSC3108  DSC3114  MTH3108  SYE3104\n",
       "0      B2030      M   20   BSCS     85.0     88.0       82     87.0\n",
       "1      B2031      F   21   BSIT     76.0     70.0       75     72.0\n",
       "2      B2032      M   22    DIT     90.0     92.0       89     93.0\n",
       "3      B2033      M   23   BSDS     65.0     66.0       60     68.0\n",
       "4      B2034      M   20   BSCS     78.0     79.0       77     80.0\n",
       "5      B2035      F   21   BSIT     88.0      NaN       85     86.0\n",
       "6      B2036      F   22   BSDS     80.0     91.0       93     94.0\n",
       "7      B2037      M   23    BSE     70.0     72.0       68     74.0\n",
       "8      B2038      F   20   BSCS     84.0     85.0       83     86.0\n",
       "9      B2039      F   21    DIT     79.0     80.0       78     78.0\n",
       "10     B2040      M   20   BSDS     83.0     84.0       81     82.0\n",
       "11     B2041      F   21    BSE     72.0     73.0       70      NaN\n",
       "12     B2042      M   22   BSCS      NaN     90.0       87     89.0\n",
       "13     B2043      M   23   BSIT     95.0     96.0       94     67.0\n",
       "14     B2044      F   20   BSDS     60.0     61.0       58     62.0\n",
       "15     B2045      F   24   BSIT     78.0     79.0       76     80.0\n",
       "16     B2046      M   22  BSCSS     80.0     81.0       79     82.0\n",
       "17     B2047      F   23    DIT     60.0     89.0       87     92.0\n",
       "18     B2048      M   20  DBSDS     89.0     87.0       88     90.0\n",
       "19     B2049      F   21    BSE     91.0     90.0       86     88.0"
      ]
     },
     "execution_count": 40,
     "metadata": {},
     "output_type": "execute_result"
    }
   ],
   "source": [
    "data = pd.read_excel('Students_performance (1).xlsx')\n",
    "data"
   ]
  },
  {
   "cell_type": "code",
   "execution_count": 12,
   "metadata": {},
   "outputs": [
    {
     "data": {
      "image/png": "[encoded data removed]",
      "text/plain": [
       "<Figure size 500x300 with 1 Axes>"
      ]
     },
     "metadata": {},
     "output_type": "display_data"
    }
   ],
   "source": [
    "\n",
    "\n",
    "plt.figure(figsize=(5, 3))\n",
    "sns.histplot(data['DSC3108'], bins=15, kde=True, color=\"blue\")  \n",
    "plt.xlabel(\"Values\")\n",
    "plt.ylabel(\"Frequency\")\n",
    "plt.title(\"Histogram of Univariate Data\")\n",
    "plt.show()\n"
   ]
  },
  {
   "cell_type": "markdown",
   "metadata": {},
   "source": [
    "Insights:\n",
    "- Reveals the distribution shape (e.g., normal, skewed, bimodal).\n",
    "- Highlights the central tendency and the spread of the data."
   ]
  },
  {
   "cell_type": "code",
   "execution_count": 39,
   "metadata": {},
   "outputs": [
    {
     "data": {
      "image/png": "[encoded data removed]",
      "text/plain": [
       "<Figure size 400x400 with 1 Axes>"
      ]
     },
     "metadata": {},
     "output_type": "display_data"
    }
   ],
   "source": [
    "plt.figure(figsize=(4, 4))\n",
    "sns.boxplot(y=data['DSC3108'], color=\"green\")\n",
    "plt.ylabel(\"Values\")\n",
    "plt.title(\"Box Plot of Univariate Data\")\n",
    "plt.show()"
   ]
  },
  {
   "cell_type": "markdown",
   "metadata": {},
   "source": [
    "Insights\n",
    "- Provides a quick summary of the data's distribution and spread.\n",
    "- Reveals outliers that might be present in the data.\n",
    "- Shows the interquartile range (IQR), highlighting the middle 50% of the data.\n",
    "Helps to identify skewness (whether the box plot is shifted to one side)"
   ]
  },
  {
   "cell_type": "code",
   "execution_count": 48,
   "metadata": {},
   "outputs": [
    {
     "data": {
      "image/png": "[encoded data removed]",
      "text/plain": [
       "<Figure size 800x500 with 1 Axes>"
      ]
     },
     "metadata": {},
     "output_type": "display_data"
    }
   ],
   "source": [
    "plt.figure(figsize=(8,5))\n",
    "sns.countplot(x=data['DSC3108'])\n",
    "\n",
    "# Adding labels and title\n",
    "plt.title(\"Univariate Bar Plot of DSC3108\")\n",
    "plt.xlabel(\"Marks\")\n",
    "plt.ylabel(\"Frequency\")\n",
    "\n",
    "# Show the plot\n",
    "plt.show()"
   ]
  },
  {
   "cell_type": "markdown",
   "metadata": {},
   "source": [
    "Insights\n",
    "- Useful for comparing frequencies or counts of different categories or values.\n",
    "- Highlights relative proportions between categories.\n",
    "Can show trends if time or sequential order is involved"
   ]
  },
  {
   "cell_type": "code",
   "execution_count": 52,
   "metadata": {},
   "outputs": [
    {
     "data": {
      "text/plain": [
       "Text(0, 0.5, 'Sample Quantiles')"
      ]
     },
     "execution_count": 52,
     "metadata": {},
     "output_type": "execute_result"
    },
    {
     "data": {
      "image/png": "[encoded data removed]",
      "text/plain": [
       "<Figure size 700x400 with 1 Axes>"
      ]
     },
     "metadata": {},
     "output_type": "display_data"
    }
   ],
   "source": [
    "import scipy.stats as stats\n",
    "# Create the QQ plot\n",
    "plt.figure(figsize=(7, 4))\n",
    "stats.probplot(data['DSC3108'], dist=\"norm\", plot=plt)\n",
    "\n",
    "# Adding labels and title\n",
    "plt.title(\"QQ Plot of Normal Distribution\")\n",
    "plt.xlabel(\"Theoretical Quantiles\")\n",
    "plt.ylabel(\"Sample Quantiles\")"
   ]
  },
  {
   "cell_type": "markdown",
   "metadata": {},
   "source": [
    "Insights\n",
    "- Helps to assess if the data follows a particular theoretical distribution (often normal).\n",
    "- If the points lie close to the reference line, the data follows the assumed distribution; if they deviate, the data may not follow that distribution.\n",
    "- Can be used to assess normality, skewness, and kurtosis"
   ]
  },
  {
   "cell_type": "markdown",
   "metadata": {},
   "source": [
    "## Central tendency"
   ]
  },
  {
   "cell_type": "markdown",
   "metadata": {},
   "source": [
    "#### Meausure of central tendency and variable analysis\n",
    "- These measures help us determine where most of the data is located."
   ]
  },
  {
   "cell_type": "markdown",
   "metadata": {},
   "source": [
    "##### When to Use Each Measure\n",
    "\n",
    "- Use the mean if data is normally distributed (no extreme values).\n",
    "\n",
    "- Use the median if data has outliers or skewness (e.g., salaries, house prices).\n",
    "\n",
    "- Use the mode for categorical or discrete data (e.g., \"Most common shoe size\").\n",
    "\n",
    "- Use the standard deviation when comparing how much values vary.\n",
    "\n",
    "- Use IQR when dealing with skewed data and avoiding the effect of extreme values."
   ]
  },
  {
   "cell_type": "markdown",
   "metadata": {},
   "source": [
    "\n",
    "\n",
    "##### Measures of central tendency\n",
    "\n",
    "These measures help us determine where most of the data is located.\n",
    "#### a) Mean (Average)\n",
    "- The sum of all values divided by the number of values.\n",
    "\n",
    "Example:\n",
    "\n",
    "Data: [5, 10, 15, 20, 25]\n",
    "\n",
    "- Mean =(5+10+15+20+25)/5=15\n",
    "\n",
    "\n",
    "Best for: Symmetric distributions.\n",
    "\n",
    "Not good for: Skewed data (it is affected by outliers).\n",
    "\n",
    "\n",
    "\n",
    "\n",
    "#### b) Median (Middle Value)\n",
    "\n",
    "The middle value when data is sorted.\n",
    "\n",
    "Example:\n",
    "Data: [5, 10, 15, 20, 25] → Median = 15 (middle number)\n",
    "\n",
    "Data: [5, 10, 15, 20] → Median = (10+15) / 2 = 12.5\n",
    "\n",
    "Best for: Skewed data (not affected by extreme values)\n",
    "\n",
    "\n",
    "##### c) Mode (Most Frequent Value)\n",
    "\n",
    "The most commonly occurring value.\n",
    "\n",
    "Example:\n",
    "\n",
    "Data: [5, 10, 10, 15, 20, 25] → Mode = 10 (appears twice)\n",
    "\n",
    "Best for: Categorical data (e.g., favorite color, customer feedback).\n",
    "\n",
    "\n",
    "\n",
    "##### Measure of variability  ( how spread out the data is)\n",
    "- These measures tell us how much values differ from each other.\n",
    "\n",
    "##### a) Range\n",
    "\n",
    "The difference between the highest and lowest value.\n",
    "Formula:\n",
    "\n",
    "- Range\n",
    "=\n",
    "Max\n",
    "−\n",
    "Min\n",
    "\n",
    "Example:\n",
    "\n",
    "Data: [5, 10, 15, 20, 25]\n",
    "\n",
    "Range =\n",
    "25\n",
    "−\n",
    "5\n",
    "= 20\n",
    "\n",
    "25−5=20\n",
    "\n",
    "#### b) Variance\n",
    "- The average of squared differences from the mean.\n",
    "\n",
    "​\n",
    " Example:\n",
    "Data: [10, 12, 14, 18, 20]\n",
    "Mean = 14.8\n",
    "Variance ≈ 14.7\n",
    "\n",
    "Problem: Affected by outliers.\n",
    "\n",
    "\n",
    "#### c) Standard Deviation (SD)\n",
    "- The square root of variance (more interpretable).\n",
    "\n",
    "Example:\n",
    "\n",
    "Data: [10, 12, 14, 18, 20]\n",
    "\n",
    "Mean = 14.8\n",
    "\n",
    "Variance ≈ 14.7\n",
    "\n",
    "#### d) Interquartile Range (IQR)\n",
    "- The range of the middle 50% of the data (between Q1 and Q3)\n",
    "- Formula:\n",
    "𝐼\n",
    "𝑄\n",
    "𝑅\n",
    "=\n",
    "𝑄\n",
    "3\n",
    "−\n",
    "𝑄\n",
    "1\n",
    "IQR=Q\n",
    "3\n",
    "​\n",
    " −Q\n",
    "1\n"
   ]
  },
  {
   "cell_type": "code",
   "execution_count": null,
   "metadata": {},
   "outputs": [
    {
     "name": "stdout",
     "output_type": "stream",
     "text": [
      "Mean DSC3108: 79.11\n",
      "Median DSC3108: 80.00\n",
      "Mode DSC3108: [60.0, 78.0, 80.0]\n",
      "Range: 35.0\n",
      "Variance: 102.21\n",
      "Standard Deviation: 10.11\n",
      "IQR: 12.50\n"
     ]
    },
    {
     "data": {
      "image/png": "[encoded data removed]",
      "text/plain": [
       "<Figure size 800x500 with 1 Axes>"
      ]
     },
     "metadata": {},
     "output_type": "display_data"
    }
   ],
   "source": [
    "# Select a numerical column for analysis\n",
    "column_name = 'DSC3108'  # Example column\n",
    "data = data[column_name].dropna()\n",
    "\n",
    "# Central Tendency\n",
    "mean_value = np.mean(data)\n",
    "median_value = np.median(data)\n",
    "\n",
    "# Mode calculation using numpy\n",
    "unique_vals, counts = np.unique(data, return_counts=True)\n",
    "max_count = np.max(counts)\n",
    "mode_value = unique_vals[counts == max_count].tolist()\n",
    "mode_value = mode_value if len(mode_value) < len(data) else \"No Mode\"\n",
    "\n",
    "# Variability\n",
    "range_value = np.ptp(data)\n",
    "variance_value = np.var(data, ddof=1)\n",
    "std_dev_value = np.std(data, ddof=1)\n",
    "\n",
    "# Interquartile Range (IQR)\n",
    "q1, q3 = np.percentile(data, [25, 75])\n",
    "iqr_value = q3 - q1\n",
    "\n",
    "# Print results\n",
    "print(f\"Mean {column_name}: {mean_value:.2f}\")\n",
    "print(f\"Median {column_name}: {median_value:.2f}\")\n",
    "print(f\"Mode {column_name}: {mode_value}\")\n",
    "print(f\"Range: {range_value}\")\n",
    "print(f\"Variance: {variance_value:.2f}\")\n",
    "print(f\"Standard Deviation: {std_dev_value:.2f}\")\n",
    "print(f\"IQR: {iqr_value:.2f}\")\n",
    "\n",
    "# Plot distribution\n",
    "plt.figure(figsize=(8, 5))\n",
    "sns.histplot(data, bins=8, kde=True, color='blue')\n",
    "\n",
    "# Add vertical lines for mean and median\n",
    "plt.axvline(mean_value, color='red', linestyle='dashed', label=f'Mean: {mean_value:.2f}')\n",
    "plt.axvline(median_value, color='green', linestyle='dashed', label=f'Median: {median_value:.2f}')\n",
    "plt.legend()\n",
    "\n",
    "plt.title(f\"{column_name} Distribution\")\n",
    "plt.xlabel(column_name)\n",
    "plt.ylabel(\"Frequency\")\n",
    "plt.show()\n"
   ]
  },
  {
   "cell_type": "markdown",
   "metadata": {},
   "source": []
  },
  {
   "cell_type": "markdown",
   "metadata": {},
   "source": [
    "#### Differentiate between descriptive and inferential methods in univariate analysis.\n",
    "\n",
    "- Descriptive:Summarizes and describes the characteristics of a dataset.\n",
    "Provides insights into data through measures of central tendency, dispersion, and visualization.\n",
    "\n",
    "- inferential: Makes predictions or inferences  based on a sample\n",
    "Draws conclusions, makes predictions, or tests hypotheses\n",
    "\n"
   ]
  },
  {
   "cell_type": "markdown",
   "metadata": {},
   "source": [
    "#### Statistical tests for inferential analysis\n",
    "- Z-Test is used to determine whether there is a significant difference between a sample mean and a population mean\n",
    "\n",
    "Used when sample size is large (n > 30) and population variance is known.\n",
    "- T-Test used to compare means. Used when sample size is small (n < 30) and population variance is unknown"
   ]
  }
 ],
 "metadata": {
  "kernelspec": {
   "display_name": "Python 3",
   "language": "python",
   "name": "python3"
  },
  "language_info": {
   "codemirror_mode": {
    "name": "ipython",
    "version": 3
   },
   "file_extension": ".py",
   "mimetype": "text/x-python",
   "name": "python",
   "nbconvert_exporter": "python",
   "pygments_lexer": "ipython3",
   "version": "3.13.2"
  }
 },
 "nbformat": 4,
 "nbformat_minor": 2
}
